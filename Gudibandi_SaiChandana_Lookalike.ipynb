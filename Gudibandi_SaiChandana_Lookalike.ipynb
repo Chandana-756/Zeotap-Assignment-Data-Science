{
 "cells": [
  {
   "cell_type": "code",
   "execution_count": 1,
   "id": "65095765-9d02-4ab9-addb-039990517171",
   "metadata": {},
   "outputs": [],
   "source": [
    "#Import necessary libraries\n",
    "from sklearn.metrics.pairwise import cosine_similarity\n",
    "import numpy as np\n",
    "import pandas as pd"
   ]
  },
  {
   "cell_type": "code",
   "execution_count": 2,
   "id": "02da8d5b-f78e-4d78-a88f-032dc34f219d",
   "metadata": {},
   "outputs": [],
   "source": [
    "#Load the given datasets\n",
    "customers = pd.read_csv('Customers.csv')\n",
    "products = pd.read_csv('Products.csv')\n",
    "transactions = pd.read_csv('Transactions.csv')"
   ]
  },
  {
   "cell_type": "code",
   "execution_count": 5,
   "id": "aea2bcf5-63d5-4a3b-9018-c7c12a839d35",
   "metadata": {},
   "outputs": [],
   "source": [
    "# Create customer profile based on transaction data (Total value spent, number of purchases, etc.)\n",
    "customer_profile = transactions.groupby('CustomerID').agg({\n",
    "    'TotalValue': 'sum',\n",
    "    'TransactionID': 'count'\n",
    "}).reset_index()"
   ]
  },
  {
   "cell_type": "code",
   "execution_count": 7,
   "id": "b3333123-63bb-4e9c-ae4f-168f64d089b9",
   "metadata": {},
   "outputs": [],
   "source": [
    "# Merge customer profile with product data for more feature richness (only numeric columns used for similarity)\n",
    "customer_profile = customer_profile.merge(customers[['CustomerID', 'Region']], on='CustomerID', how='left')"
   ]
  },
  {
   "cell_type": "code",
   "execution_count": 9,
   "id": "0ffd4239-0c24-439b-a7c9-2f2491986fab",
   "metadata": {},
   "outputs": [],
   "source": [
    "# Exclude non-numeric columns like 'Region' for the cosine similarity calculation\n",
    "numeric_data = customer_profile[['TotalValue', 'TransactionID']]\n"
   ]
  },
  {
   "cell_type": "code",
   "execution_count": 11,
   "id": "9dd502e8-d09e-4876-9a16-c7bb66a3624f",
   "metadata": {},
   "outputs": [],
   "source": [
    "# Calculate cosine similarity matrix between customers based on their total value and transaction count\n",
    "similarity_matrix = cosine_similarity(numeric_data)"
   ]
  },
  {
   "cell_type": "code",
   "execution_count": 13,
   "id": "af822511-a968-46a2-aee1-ba613c319fc3",
   "metadata": {},
   "outputs": [],
   "source": [
    "# Create a function to recommend lookalikes\n",
    "def recommend_lookalikes(customer_id, similarity_matrix, top_n=3):\n",
    "    # Get the index of the customer in the profile dataframe\n",
    "    customer_idx = customer_profile[customer_profile['CustomerID'] == customer_id].index[0]\n",
    "    similarity_scores = similarity_matrix[customer_idx]\n",
    "    \n",
    "    # Get top N similar customers (excluding the customer itself)\n",
    "    similar_customers = similarity_scores.argsort()[-top_n-1:-1][::-1]  # Exclude self from recommendations\n",
    "    similar_customer_ids = customer_profile.iloc[similar_customers]['CustomerID'].values\n",
    "    scores = similarity_scores[similar_customers]\n",
    "    \n",
    "    return list(zip(similar_customer_ids, scores))"
   ]
  },
  {
   "cell_type": "code",
   "execution_count": 15,
   "id": "8012b818-1650-4f8e-afa1-505044cfb8ff",
   "metadata": {},
   "outputs": [],
   "source": [
    "# Example: Recommend lookalikes for customers 1 to 20\n",
    "lookalike_recommendations = {}\n",
    "for customer_id in customer_profile['CustomerID'][:20]:  # For first 20 customers\n",
    "    lookalike_recommendations[customer_id] = recommend_lookalikes(customer_id, similarity_matrix)"
   ]
  },
  {
   "cell_type": "code",
   "execution_count": 17,
   "id": "ed4295c8-a9e1-437d-be5f-c483e9cc302c",
   "metadata": {},
   "outputs": [],
   "source": [
    "# Create a DataFrame to save the recommendations\n",
    "lookalike_data = []\n",
    "for customer_id, recommendations in lookalike_recommendations.items():\n",
    "    for similar_customer, score in recommendations:\n",
    "        lookalike_data.append([customer_id, similar_customer, score])\n",
    "\n",
    "lookalike_df = pd.DataFrame(lookalike_data, columns=['CustomerID', 'Lookalike_ID', 'Similarity_Score'])"
   ]
  },
  {
   "cell_type": "code",
   "execution_count": 23,
   "id": "81665ae1-f37d-49be-8c1e-76ba8622087a",
   "metadata": {},
   "outputs": [
    {
     "name": "stdout",
     "output_type": "stream",
     "text": [
      "Lookalike recommendations have been saved to Gudibandi_SaiChandana_Lookalike.csv\n"
     ]
    }
   ],
   "source": [
    "# Save lookalike recommendations to CSV\n",
    "lookalike_df.to_csv('Gudibandi_SaiChandana_Lookalike.csv', index=False, header=True)\n",
    "\n",
    "print(\"Lookalike recommendations have been saved to Gudibandi_SaiChandana_Lookalike.csv\")"
   ]
  },
  {
   "cell_type": "code",
   "execution_count": null,
   "id": "a84f8c05-9966-4421-a5d4-c2d080236682",
   "metadata": {},
   "outputs": [],
   "source": [
    "lookalike_df.to_csv('/path/to/your/directory/Gudibandi_SaiChandana_Lookalike.csv', index=False)"
   ]
  }
 ],
 "metadata": {
  "kernelspec": {
   "display_name": "Python 3 (ipykernel)",
   "language": "python",
   "name": "python3"
  },
  "language_info": {
   "codemirror_mode": {
    "name": "ipython",
    "version": 3
   },
   "file_extension": ".py",
   "mimetype": "text/x-python",
   "name": "python",
   "nbconvert_exporter": "python",
   "pygments_lexer": "ipython3",
   "version": "3.11.7"
  }
 },
 "nbformat": 4,
 "nbformat_minor": 5
}
